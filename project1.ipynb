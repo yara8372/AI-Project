{
 "cells": [
  {
   "cell_type": "code",
   "execution_count": 4,
   "metadata": {},
   "outputs": [
    {
     "name": "stdout",
     "output_type": "stream",
     "text": [
      "Collecting rarfile\n",
      "  Using cached rarfile-4.0-py3-none-any.whl (28 kB)\n",
      "Installing collected packages: rarfile\n",
      "Successfully installed rarfile-4.0\n",
      "\n",
      "\u001b[1m[\u001b[0m\u001b[34;49mnotice\u001b[0m\u001b[1;39;49m]\u001b[0m\u001b[39;49m A new release of pip available: \u001b[0m\u001b[31;49m22.1.2\u001b[0m\u001b[39;49m -> \u001b[0m\u001b[32;49m22.2.2\u001b[0m\n",
      "\u001b[1m[\u001b[0m\u001b[34;49mnotice\u001b[0m\u001b[1;39;49m]\u001b[0m\u001b[39;49m To update, run: \u001b[0m\u001b[32;49mpython3 -m pip install --upgrade pip\u001b[0m\n"
     ]
    }
   ],
   "source": [
    "!pip3 install rarfile"
   ]
  },
  {
   "cell_type": "code",
   "execution_count": 9,
   "metadata": {},
   "outputs": [],
   "source": [
    "import rarfile\n",
    "import pandas as pd\n",
    "\n",
    "def read_to_df(path): # \"./100 nodes.rar\"\n",
    "    with rarfile.RarFile(path) as rf:\n",
    "        with rf.open(\"100 nodes.csv\") as f:\n",
    "            df = pd.read_csv(f, header=[0])\n",
    "            df.head()\n",
    "    return df\n",
    "    "
   ]
  },
  {
   "cell_type": "code",
   "execution_count": 8,
   "metadata": {},
   "outputs": [],
   "source": [
    "class Node:\n",
    "    def __init__(self, id, x, y, parent, state, h_cost, g_cost):\n",
    "        self.id = id\n",
    "        self.x = x\n",
    "        self.y = y\n",
    "        self.parent = parent\n",
    "        self.state = state \n",
    "        self.h_cost = h_cost\n",
    "        self.g_cost = g_cost\n"
   ]
  },
  {
   "cell_type": "code",
   "execution_count": 17,
   "metadata": {},
   "outputs": [],
   "source": [
    "def heuristic_cost(node1, node2):\n",
    "    return abs(node1.x - node2.x) + abs(node1.y - node2.y)\n",
    "\n",
    "def select_best(frontier, weight, end_node): \n",
    "    fbest = float('inf')\n",
    "    for n in list(frontier.values()):\n",
    "        h = heuristic_cost(n, end_node)\n",
    "        f = weight * n.g_cost + (1 - weight) * n.h_cost\n",
    "        if  f < fbest:\n",
    "            fbest = f\n",
    "            nbest = n\n",
    "            id = nbest.id\n",
    "    del frontier[id]\n",
    "    return nbest\n",
    "\n",
    "def astar_graph_search(start_id, end_id, weight):\n",
    "    df = read_to_df(\"./100 nodes.rar\")\n",
    "    start_node = Node(start_id, df.at[start_id, 'x'], df.at[start_id, 'y'], None, 0, 0, 0)\n",
    "    end_node = Node(end_id, df.at[end_id, 'x'], df.at[end_id, 'y'], None, 2, 0, 0)\n",
    "    start_node.h_cost = heuristic_cost(start_node, end_node)\n",
    "    counter = 2\n",
    "    frontier = {start_node.id: start_node}\n",
    "    reached = {start_node.id: start_node}\n",
    "    # curr_no = start_node\n",
    "    while len(frontier) > 0:\n",
    "        node = select_best(frontier, weight, end_node)\n",
    "        print(333)\n",
    "        if node.id == end_node.id:\n",
    "            end_node.parent = node.parent\n",
    "            end_node.h_cost = node.h_cost\n",
    "            end_node.g_cost = node.g_cost\n",
    "            path = []\n",
    "            node_p = node\n",
    "            while node_p.parent: \n",
    "                path.append(node_p.parent)\n",
    "                node_p = reached[node_p.parent]\n",
    "            print(f\"The length of the path is {len(path)}\")\n",
    "            print(f\"The path is {''.join(path[::-1])}\")\n",
    "            print(f\"Amount of created nodes: {counter}\")\n",
    "            return node\n",
    "        frontier, reached, counter  = expand_graph_search(df, start_node, end_node, frontier, reached, counter)\n",
    "    print(\"There is no path\")\n",
    "    return \"There is no path\"\n",
    "        \n",
    "\n",
    "def expand_graph_search(df, start_node, end_node, frontier, reached, counter):\n",
    "    child_list = []\n",
    "    columns = df.columns.values[3:].astype(int).tolist()\n",
    "    print(columns)\n",
    "    for column in columns:\n",
    "        cost = df.iloc[start_node.id][str(column)]\n",
    "        if cost != 0:\n",
    "            child_node = Node(column, df.at[column, 'x'], df.at[column, 'y'], start_node.id, 1, 0, 0)\n",
    "            counter += 1\n",
    "            child_node.h_cost = heuristic_cost(child_node, end_node)\n",
    "            child_node.g_cost = start_node.g_cost + cost\n",
    "            # check if already reached, if so check if cost is lower and replace\n",
    "            if column in reached.keys():\n",
    "                if reached[column].g_cost > child_node.g_cost:\n",
    "                    reached[column].g_cost = child_node.g_cost\n",
    "                    reached[column].parent = child_node.parent\n",
    "                    # only change value for g_cost and parent if node in frontier\n",
    "                    if column in frontier.keys():\n",
    "                        frontier[column].g_cost = child_node.g_cost\n",
    "                        frontier[column].parent = child_node.parent\n",
    "            # if not in reached, add to reached, frontier\n",
    "            else:\n",
    "                frontier[column] = child_node\n",
    "                reached[column] = child_node\n",
    "    return frontier, reached, counter\n",
    "\n"
   ]
  },
  {
   "cell_type": "code",
   "execution_count": 18,
   "metadata": {},
   "outputs": [
    {
     "name": "stdout",
     "output_type": "stream",
     "text": [
      "333\n",
      "[0, 1, 2, 3, 4, 5, 6, 7, 8, 9, 10, 11, 12, 13, 14, 15, 16, 17, 18, 19, 20, 21, 22, 23, 24, 25, 26, 27, 28, 29, 30, 31, 32, 33, 34, 35, 36, 37, 38, 39, 40, 41, 42, 43, 44, 45, 46, 47, 48, 49, 50, 51, 52, 53, 54, 55, 56, 57, 58, 59, 60, 61, 62, 63, 64, 65, 66, 67, 68, 69, 70, 71, 72, 73, 74, 75, 76, 77, 78, 79, 80, 81, 82, 83, 84, 85, 86, 87, 88, 89, 90, 91, 92, 93, 94, 95, 96, 97, 98, 99]\n",
      "333\n",
      "[0, 1, 2, 3, 4, 5, 6, 7, 8, 9, 10, 11, 12, 13, 14, 15, 16, 17, 18, 19, 20, 21, 22, 23, 24, 25, 26, 27, 28, 29, 30, 31, 32, 33, 34, 35, 36, 37, 38, 39, 40, 41, 42, 43, 44, 45, 46, 47, 48, 49, 50, 51, 52, 53, 54, 55, 56, 57, 58, 59, 60, 61, 62, 63, 64, 65, 66, 67, 68, 69, 70, 71, 72, 73, 74, 75, 76, 77, 78, 79, 80, 81, 82, 83, 84, 85, 86, 87, 88, 89, 90, 91, 92, 93, 94, 95, 96, 97, 98, 99]\n",
      "333\n",
      "[0, 1, 2, 3, 4, 5, 6, 7, 8, 9, 10, 11, 12, 13, 14, 15, 16, 17, 18, 19, 20, 21, 22, 23, 24, 25, 26, 27, 28, 29, 30, 31, 32, 33, 34, 35, 36, 37, 38, 39, 40, 41, 42, 43, 44, 45, 46, 47, 48, 49, 50, 51, 52, 53, 54, 55, 56, 57, 58, 59, 60, 61, 62, 63, 64, 65, 66, 67, 68, 69, 70, 71, 72, 73, 74, 75, 76, 77, 78, 79, 80, 81, 82, 83, 84, 85, 86, 87, 88, 89, 90, 91, 92, 93, 94, 95, 96, 97, 98, 99]\n",
      "There is no path\n"
     ]
    }
   ],
   "source": [
    "if __name__ == \"__main__\":\n",
    "    astar_graph_search(0, 1, 0.5)"
   ]
  }
 ],
 "metadata": {
  "kernelspec": {
   "display_name": "Python 3.9.10 64-bit",
   "language": "python",
   "name": "python3"
  },
  "language_info": {
   "codemirror_mode": {
    "name": "ipython",
    "version": 3
   },
   "file_extension": ".py",
   "mimetype": "text/x-python",
   "name": "python",
   "nbconvert_exporter": "python",
   "pygments_lexer": "ipython3",
   "version": "3.9.10"
  },
  "orig_nbformat": 4,
  "vscode": {
   "interpreter": {
    "hash": "aee8b7b246df8f9039afb4144a1f6fd8d2ca17a180786b69acc140d282b71a49"
   }
  }
 },
 "nbformat": 4,
 "nbformat_minor": 2
}
